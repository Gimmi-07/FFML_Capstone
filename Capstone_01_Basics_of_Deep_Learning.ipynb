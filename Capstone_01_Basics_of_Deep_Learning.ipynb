{
  "nbformat": 4,
  "nbformat_minor": 0,
  "metadata": {
    "colab": {
      "provenance": [],
      "authorship_tag": "ABX9TyMx/qfvgiWcavPE3kX4QOtF",
      "include_colab_link": true
    },
    "kernelspec": {
      "name": "python3",
      "display_name": "Python 3"
    },
    "language_info": {
      "name": "python"
    }
  },
  "cells": [
    {
      "cell_type": "markdown",
      "metadata": {
        "id": "view-in-github",
        "colab_type": "text"
      },
      "source": [
        "<a href=\"https://colab.research.google.com/github/Gimmi-07/FFML_Capstone/blob/main/Capstone_01_Basics_of_Deep_Learning.ipynb\" target=\"_parent\"><img src=\"https://colab.research.google.com/assets/colab-badge.svg\" alt=\"Open In Colab\"/></a>"
      ]
    },
    {
      "cell_type": "markdown",
      "source": [
        "#**Deep Learning**\n",
        "Deep learning is a subset of machine learning that employs artificial neural networks to learn from data in a manner similar to how the human brain operates. It is termed \"deep\" because these neural networks contain multiple layers, allowing the model to learn progressively more complex features from the data.\n",
        "\n",
        "To grasp this concept, we'll begin with a basic example of image classification. Suppose we want to train a deep learning model to classify images of animals. We would provide the model with a large dataset of labeled animal images, such as cats, dogs, and horses. This process involves several methods and techniques that we will cover."
      ],
      "metadata": {
        "id": "_rbPyK_M3DOM"
      }
    },
    {
      "cell_type": "markdown",
      "source": [
        "## 1.Importing the Necessary Libraries\n",
        "\n",
        " Necessary libraries (torch, torch.nn, torch.optim, datasets, transforms, matplotlib.pyplot) are imported"
      ],
      "metadata": {
        "id": "iQCKMmjtlqBM"
      }
    },
    {
      "cell_type": "code",
      "execution_count": 1,
      "metadata": {
        "id": "P4HGKNcWkV2S"
      },
      "outputs": [],
      "source": [
        "import torch\n",
        "import torch.nn as nn\n",
        "import torch.optim as optim\n",
        "from torchvision import datasets, transforms\n",
        "import matplotlib.pyplot as plt"
      ]
    },
    {
      "cell_type": "markdown",
      "source": [
        "## 2. Defining the Deep Learning Model\n",
        "\n",
        " The Net class is defined, which represents a convolutional neural network (CNN) architecture suitable for the CIFAR-10 dataset.\n"
      ],
      "metadata": {
        "id": "0SWUXTO9lu2z"
      }
    },
    {
      "cell_type": "code",
      "source": [
        "class Net(nn.Module):\n",
        "    def __init__(self):\n",
        "        super(Net, self).__init__()\n",
        "        self.conv1 = nn.Conv2d(3, 6, 5)\n",
        "        self.pool = nn.MaxPool2d(2, 2)\n",
        "        self.conv2 = nn.Conv2d(6, 16, 5)\n",
        "        self.fc1 = nn.Linear(16 * 5 * 5, 120)\n",
        "        self.fc2 = nn.Linear(120, 84)\n",
        "        self.fc3 = nn.Linear(84, 10)\n",
        "\n",
        "    def forward(self, x):\n",
        "        x = self.pool(torch.relu(self.conv1(x)))\n",
        "        x = self.pool(torch.relu(self.conv2(x)))\n",
        "        x = x.view(-1, 16 * 5 * 5)\n",
        "        x = torch.relu(self.fc1(x))\n",
        "        x = torch.relu(self.fc2(x))\n",
        "        x = self.fc3(x)\n",
        "        return x"
      ],
      "metadata": {
        "id": "pwULSjwYkcS9"
      },
      "execution_count": 2,
      "outputs": []
    },
    {
      "cell_type": "markdown",
      "source": [
        "## 3. Loading and Preprocessing the Data\n",
        "\n",
        "CIFAR-10 dataset is loaded and preprocessed using transformations (transforms.Compose). Training and test data are loaded into trainloader and testloader, respectively.\n",
        "\n",
        "Added visualize_samples function to visualize sample images from the CIFAR-10 training dataset. It iterates through the trainloader, extracts images and labels, un-normalizes the images, and displays them using Matplotlib."
      ],
      "metadata": {
        "id": "fhP-dRoPmYrs"
      }
    },
    {
      "cell_type": "code",
      "source": [
        "transform = transforms.Compose([\n",
        "    transforms.ToTensor(),\n",
        "    transforms.Normalize((0.5, 0.5, 0.5), (0.5, 0.5, 0.5)),\n",
        "])\n",
        "\n",
        "trainset = datasets.CIFAR10(root='./data', train=True, download=True, transform=transform)\n",
        "trainloader = torch.utils.data.DataLoader(trainset, batch_size=64, shuffle=True, num_workers=2)\n",
        "\n",
        "testset = datasets.CIFAR10(root='./data', train=False, download=True, transform=transform)\n",
        "testloader = torch.utils.data.DataLoader(testset, batch_size=64, shuffle=False, num_workers=2)\n",
        "\n",
        "# Visualization function\n",
        "def visualize_samples(loader, num_samples=5):\n",
        "    dataiter = iter(loader)\n",
        "    images, labels = next(dataiter)\n",
        "\n",
        "    fig, axes = plt.subplots(1, num_samples, figsize=(15, 3))\n",
        "    for i in range(num_samples):\n",
        "        image = images[i].numpy().transpose((1, 2, 0))\n",
        "        image = (image * 0.5) + 0.5  # Unnormalize\n",
        "        axes[i].imshow(image)\n",
        "        axes[i].set_title(f'Label: {labels[i].item()}')\n",
        "        axes[i].axis('off')\n",
        "\n",
        "    plt.show()\n",
        "\n",
        "# Visualize some samples from the train loader\n",
        "visualize_samples(trainloader, num_samples=5)\n",
        "\n"
      ],
      "metadata": {
        "colab": {
          "base_uri": "https://localhost:8080/",
          "height": 294
        },
        "id": "hGaKDgi-keAo",
        "outputId": "f5f26e6a-3809-4592-a3db-affb3854dd75"
      },
      "execution_count": 5,
      "outputs": [
        {
          "output_type": "stream",
          "name": "stdout",
          "text": [
            "Files already downloaded and verified\n",
            "Files already downloaded and verified\n"
          ]
        },
        {
          "output_type": "display_data",
          "data": {
            "text/plain": [
              "<Figure size 1500x300 with 5 Axes>"
            ],
            "image/png": "[encoded data removed]"
          },
          "metadata": {}
        }
      ]
    },
    {
      "cell_type": "markdown",
      "source": [
        "## 4. Training the Model\n",
        "\n",
        "The model is trained using the defined loss function (nn.CrossEntropyLoss) and optimizer (optim.SGD). Training loop iterates over batches of data, computes loss, performs backpropagation, and updates model parameters.\n",
        "\n"
      ],
      "metadata": {
        "id": "yQ0t4lr1m25X"
      }
    },
    {
      "cell_type": "code",
      "source": [
        "# Define the loss function and optimizer\n",
        "device = torch.device(\"cuda:0\" if torch.cuda.is_available() else \"cpu\")\n",
        "net = Net().to(device)\n",
        "criterion = nn.CrossEntropyLoss()\n",
        "optimizer = optim.SGD(net.parameters(), lr=0.001, momentum=0.9)\n",
        "\n",
        "# Train the model\n",
        "for epoch in range(10):\n",
        "    running_loss = 0.0\n",
        "    for i, data in enumerate(trainloader, 0):\n",
        "        inputs, labels = data[0].to(device), data[1].to(device)\n",
        "\n",
        "        optimizer.zero_grad()\n",
        "\n",
        "        outputs = net(inputs)\n",
        "        loss = criterion(outputs, labels)\n",
        "        loss.backward()\n",
        "        optimizer.step()\n",
        "\n",
        "        running_loss += loss.item()\n",
        "        if i % 100 == 99:\n",
        "            print(f'[{epoch + 1}, {i + 1:5d}] loss: {running_loss / 100:.3f}')\n",
        "            running_loss = 0.0\n",
        "\n",
        "print('Finished Training')\n"
      ],
      "metadata": {
        "colab": {
          "base_uri": "https://localhost:8080/"
        },
        "id": "qK1AgjMrkkgd",
        "outputId": "3c1b298a-19fc-45be-8e3d-a61de40d90cb"
      },
      "execution_count": 6,
      "outputs": [
        {
          "output_type": "stream",
          "name": "stdout",
          "text": [
            "[1,   100] loss: 2.304\n",
            "[1,   200] loss: 2.303\n",
            "[1,   300] loss: 2.302\n",
            "[1,   400] loss: 2.299\n",
            "[1,   500] loss: 2.297\n",
            "[1,   600] loss: 2.295\n",
            "[1,   700] loss: 2.292\n",
            "[2,   100] loss: 2.277\n",
            "[2,   200] loss: 2.260\n",
            "[2,   300] loss: 2.223\n",
            "[2,   400] loss: 2.174\n",
            "[2,   500] loss: 2.134\n",
            "[2,   600] loss: 2.128\n",
            "[2,   700] loss: 2.112\n",
            "[3,   100] loss: 2.063\n",
            "[3,   200] loss: 2.024\n",
            "[3,   300] loss: 1.996\n",
            "[3,   400] loss: 1.957\n",
            "[3,   500] loss: 1.922\n",
            "[3,   600] loss: 1.877\n",
            "[3,   700] loss: 1.878\n",
            "[4,   100] loss: 1.846\n",
            "[4,   200] loss: 1.793\n",
            "[4,   300] loss: 1.778\n",
            "[4,   400] loss: 1.768\n",
            "[4,   500] loss: 1.734\n",
            "[4,   600] loss: 1.721\n",
            "[4,   700] loss: 1.716\n",
            "[5,   100] loss: 1.696\n",
            "[5,   200] loss: 1.652\n",
            "[5,   300] loss: 1.659\n",
            "[5,   400] loss: 1.629\n",
            "[5,   500] loss: 1.626\n",
            "[5,   600] loss: 1.587\n",
            "[5,   700] loss: 1.601\n",
            "[6,   100] loss: 1.566\n",
            "[6,   200] loss: 1.574\n",
            "[6,   300] loss: 1.544\n",
            "[6,   400] loss: 1.513\n",
            "[6,   500] loss: 1.555\n",
            "[6,   600] loss: 1.516\n",
            "[6,   700] loss: 1.499\n",
            "[7,   100] loss: 1.483\n",
            "[7,   200] loss: 1.483\n",
            "[7,   300] loss: 1.476\n",
            "[7,   400] loss: 1.468\n",
            "[7,   500] loss: 1.475\n",
            "[7,   600] loss: 1.461\n",
            "[7,   700] loss: 1.462\n",
            "[8,   100] loss: 1.438\n",
            "[8,   200] loss: 1.422\n",
            "[8,   300] loss: 1.431\n",
            "[8,   400] loss: 1.426\n",
            "[8,   500] loss: 1.415\n",
            "[8,   600] loss: 1.416\n",
            "[8,   700] loss: 1.415\n",
            "[9,   100] loss: 1.378\n",
            "[9,   200] loss: 1.379\n",
            "[9,   300] loss: 1.376\n",
            "[9,   400] loss: 1.371\n",
            "[9,   500] loss: 1.391\n",
            "[9,   600] loss: 1.363\n",
            "[9,   700] loss: 1.351\n",
            "[10,   100] loss: 1.343\n",
            "[10,   200] loss: 1.332\n",
            "[10,   300] loss: 1.322\n",
            "[10,   400] loss: 1.327\n",
            "[10,   500] loss: 1.333\n",
            "[10,   600] loss: 1.318\n",
            "[10,   700] loss: 1.330\n",
            "Finished Training\n"
          ]
        }
      ]
    },
    {
      "cell_type": "markdown",
      "source": [
        "## 5. Evaluating the Model\n",
        "\n",
        "Model accuracy is evaluated on the test set. The model predicts labels for test data (testloader) and compares them with actual labels to compute accuracy.\n",
        "\n"
      ],
      "metadata": {
        "id": "cPzmR7I7nCrK"
      }
    },
    {
      "cell_type": "code",
      "source": [
        "# Evaluate the model\n",
        "correct = 0\n",
        "total = 0\n",
        "with torch.no_grad():\n",
        "    for data in testloader:\n",
        "        images, labels = data[0].to(device), data[1].to(device)\n",
        "        outputs = net(images)\n",
        "        _, predicted = torch.max(outputs.data, 1)\n",
        "        total += labels.size(0)\n",
        "        correct += (predicted == labels).sum().item()\n",
        "\n",
        "print(f'Accuracy of the network on the 10000 test images: {100 * correct // total} %')\n"
      ],
      "metadata": {
        "colab": {
          "base_uri": "https://localhost:8080/"
        },
        "id": "-DAuEEtRko6I",
        "outputId": "c15a1d08-cb2f-40da-9862-03523fba389f"
      },
      "execution_count": 7,
      "outputs": [
        {
          "output_type": "stream",
          "name": "stdout",
          "text": [
            "Accuracy of the network on the 10000 test images: 51 %\n"
          ]
        }
      ]
    },
    {
      "cell_type": "markdown",
      "source": [
        "\n",
        "---\n",
        "\n",
        "### Conclusion\n",
        "\n",
        "In this implementation, we've constructed a convolutional neural network (CNN) using PyTorch to classify images from the CIFAR-10 dataset."
      ],
      "metadata": {
        "id": "WDM4mRklnt2C"
      }
    }
  ]
}